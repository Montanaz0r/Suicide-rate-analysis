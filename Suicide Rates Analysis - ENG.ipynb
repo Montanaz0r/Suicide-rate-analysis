{
 "cells": [
  {
   "cell_type": "markdown",
   "metadata": {},
   "source": [
    "# Testing a significance of the correlation between a suicide rate and a number of psychiatrists and psychologists working in the mental health sector."
   ]
  },
  {
   "cell_type": "markdown",
   "metadata": {},
   "source": [
    "## Introduction\n",
    "\n",
    "The subject of the actual analysis is to test if there is a significant correlation between the suicide rate across the world and a number of psychiatrists and psychologists working in the mental health sector. \n",
    "\n",
    "Mental health issues are becoming a serious problem nowadays and there is a lot of discussion, especially in the Europe and USA, on what can be done in terms of a prevention, as well, as a treatment. It makes a logical sense to assume that the number of workers in the mental health sector should be correlated with the suicide rate either because of an availability or, a potential time in which one can start receiving appropriate help.\n",
    "\n",
    "## Research & Hypothesis\n",
    "\n",
    "The questions that the analysis will try to answer: is there a significant relationship between the suicide rate across the world and the number of human resources (psychiatrists and psychologists) working in the mental health sector. Suicide rate is a dependent variable and the number of HR in mental health sector is an independent variable. I can assume that there should be a negative correlation between these coefficients as the availability of mental health specialists should lead to decreasing number of people who decide to commit a suicide. At the same time I am not ruling out that there can be an inverted correlation and the number of the HR in the mental health sector can increase in the countries where there is an increasing demand for mental health care; ergo there are more people with issues related to a mental health.\n",
    "\n",
    "• The analysis will be applied with inferential statistics    \n",
    "• The sample was collected from the data provided by the Global Health Organization   \n",
    "• The sample size is 71 (N=71)    \n",
    "• The suicide rate is an age-standardized rate of committed suicides per 100 000 population    \n",
    "• The HR rate is an average rate of human resources (psychiatrists + psychologists) per 100 000 population    \n",
    "\n",
    "**The null hypothesis states that there is no statistical significance between the suicide rate and the number of HR in the mental health sector.** \n",
    "\n",
    "*H(0): &#x03C1;=0*\n",
    "\n",
    "**The alternative hypothesis states that there is a statistically significant correlation between the suicide rate and the number of HR in the mental health sector.** \n",
    "\n",
    "*H(A): &#x03C1; > 0 or &#x03C1; < 0 or &#x03C1; ≠ 0*\n",
    "\n",
    "**The level of a confidence interval alpha is set at 95%. α = 0.05 for a two-tailed test.**\n",
    "\n",
    "## Experimental design\n",
    "\n",
    "The analysis will use the **correlation coefficient - Pearson's r** to measure if there is a statistically significant relationship between variables and the two-tailed **p-value** to indicate the probability of null hypothesis being true, whereas the analysis is based on the sample data we will take a sampling error into account by calculating a **95% confidence interval** (&#x03C1;). The computation of a confidence interval on the population value of Pearson's correlation (ρ) is complicated by the fact that the sampling distribution of r is not normally distributed, therefore I will use **Fisher's z'** transformation to handle this issue."
   ]
  },
  {
   "cell_type": "code",
   "execution_count": 186,
   "metadata": {},
   "outputs": [],
   "source": [
    "# Importing necessary modules.\n",
    "import pandas as pd\n",
    "import numpy as np\n",
    "import seaborn as sns\n",
    "import matplotlib.pyplot as plt\n",
    "import os\n",
    "from scipy import stats\n",
    "import math"
   ]
  },
  {
   "cell_type": "code",
   "execution_count": 188,
   "metadata": {},
   "outputs": [],
   "source": [
    "# Creating variable for HR dataframe.\n",
    "HR_data = pd.read_csv('hr.csv', header=0, engine='python')"
   ]
  },
  {
   "cell_type": "code",
   "execution_count": 189,
   "metadata": {},
   "outputs": [
    {
     "data": {
      "text/html": [
       "<div>\n",
       "<style scoped>\n",
       "    .dataframe tbody tr th:only-of-type {\n",
       "        vertical-align: middle;\n",
       "    }\n",
       "\n",
       "    .dataframe tbody tr th {\n",
       "        vertical-align: top;\n",
       "    }\n",
       "\n",
       "    .dataframe thead th {\n",
       "        text-align: right;\n",
       "    }\n",
       "</style>\n",
       "<table border=\"1\" class=\"dataframe\">\n",
       "  <thead>\n",
       "    <tr style=\"text-align: right;\">\n",
       "      <th></th>\n",
       "      <th>Country</th>\n",
       "      <th>Year</th>\n",
       "      <th>Psychiatrists working in mental health sector (per 100 000 population)</th>\n",
       "      <th>Nurses working in mental health sector (per 100 000 population)</th>\n",
       "      <th>Social workers working in mental health sector (per 100 000 population)</th>\n",
       "      <th>Psychologists working in mental health sector (per 100 000 population)</th>\n",
       "    </tr>\n",
       "  </thead>\n",
       "  <tbody>\n",
       "    <tr>\n",
       "      <th>0</th>\n",
       "      <td>Afghanistan</td>\n",
       "      <td>2016</td>\n",
       "      <td>0.231</td>\n",
       "      <td>0.098</td>\n",
       "      <td>NaN</td>\n",
       "      <td>0.296</td>\n",
       "    </tr>\n",
       "    <tr>\n",
       "      <th>1</th>\n",
       "      <td>Albania</td>\n",
       "      <td>2016</td>\n",
       "      <td>1.471</td>\n",
       "      <td>6.876</td>\n",
       "      <td>1.060</td>\n",
       "      <td>1.231</td>\n",
       "    </tr>\n",
       "    <tr>\n",
       "      <th>2</th>\n",
       "      <td>Angola</td>\n",
       "      <td>2016</td>\n",
       "      <td>0.057</td>\n",
       "      <td>0.660</td>\n",
       "      <td>0.022</td>\n",
       "      <td>0.179</td>\n",
       "    </tr>\n",
       "    <tr>\n",
       "      <th>3</th>\n",
       "      <td>Antigua and Barbuda</td>\n",
       "      <td>2016</td>\n",
       "      <td>1.001</td>\n",
       "      <td>7.005</td>\n",
       "      <td>4.003</td>\n",
       "      <td>NaN</td>\n",
       "    </tr>\n",
       "    <tr>\n",
       "      <th>4</th>\n",
       "      <td>Argentina</td>\n",
       "      <td>2016</td>\n",
       "      <td>21.705</td>\n",
       "      <td>NaN</td>\n",
       "      <td>NaN</td>\n",
       "      <td>222.572</td>\n",
       "    </tr>\n",
       "  </tbody>\n",
       "</table>\n",
       "</div>"
      ],
      "text/plain": [
       "               Country  Year  \\\n",
       "0          Afghanistan  2016   \n",
       "1              Albania  2016   \n",
       "2               Angola  2016   \n",
       "3  Antigua and Barbuda  2016   \n",
       "4            Argentina  2016   \n",
       "\n",
       "   Psychiatrists working in mental health sector (per 100 000 population)  \\\n",
       "0                                              0.231                        \n",
       "1                                              1.471                        \n",
       "2                                              0.057                        \n",
       "3                                              1.001                        \n",
       "4                                             21.705                        \n",
       "\n",
       "   Nurses working in mental health sector (per 100 000 population)  \\\n",
       "0                                              0.098                 \n",
       "1                                              6.876                 \n",
       "2                                              0.660                 \n",
       "3                                              7.005                 \n",
       "4                                                NaN                 \n",
       "\n",
       "   Social workers working in mental health sector (per 100 000 population)  \\\n",
       "0                                                NaN                         \n",
       "1                                              1.060                         \n",
       "2                                              0.022                         \n",
       "3                                              4.003                         \n",
       "4                                                NaN                         \n",
       "\n",
       "   Psychologists working in mental health sector (per 100 000 population)  \n",
       "0                                              0.296                       \n",
       "1                                              1.231                       \n",
       "2                                              0.179                       \n",
       "3                                                NaN                       \n",
       "4                                            222.572                       "
      ]
     },
     "execution_count": 189,
     "metadata": {},
     "output_type": "execute_result"
    }
   ],
   "source": [
    "HR_data.head()"
   ]
  },
  {
   "cell_type": "code",
   "execution_count": 190,
   "metadata": {},
   "outputs": [
    {
     "data": {
      "text/plain": [
       "2016    107\n",
       "2017     23\n",
       "2015     21\n",
       "2013      2\n",
       "2014      1\n",
       "Name: Year, dtype: int64"
      ]
     },
     "execution_count": 190,
     "metadata": {},
     "output_type": "execute_result"
    }
   ],
   "source": [
    "# Checking how many data landed in each year.\n",
    "HR_data['Year'].value_counts()"
   ]
  },
  {
   "cell_type": "code",
   "execution_count": 191,
   "metadata": {},
   "outputs": [],
   "source": [
    "# Changing column names.\n",
    "HR_data = HR_data.rename(columns={'Psychiatrists working in mental health sector (per 100 000 population)': 'Psychiatrists', \n",
    "                             'Psychologists working in mental health sector (per 100 000 population)': 'Psychologists'})"
   ]
  },
  {
   "cell_type": "code",
   "execution_count": 192,
   "metadata": {},
   "outputs": [],
   "source": [
    "# Creating a copy of the data frame with selected data.\n",
    "HR_selected_data = HR_data[['Country', 'Year', 'Psychiatrists', 'Psychologists']].copy()"
   ]
  },
  {
   "cell_type": "code",
   "execution_count": 193,
   "metadata": {},
   "outputs": [
    {
     "data": {
      "text/html": [
       "<div>\n",
       "<style scoped>\n",
       "    .dataframe tbody tr th:only-of-type {\n",
       "        vertical-align: middle;\n",
       "    }\n",
       "\n",
       "    .dataframe tbody tr th {\n",
       "        vertical-align: top;\n",
       "    }\n",
       "\n",
       "    .dataframe thead th {\n",
       "        text-align: right;\n",
       "    }\n",
       "</style>\n",
       "<table border=\"1\" class=\"dataframe\">\n",
       "  <thead>\n",
       "    <tr style=\"text-align: right;\">\n",
       "      <th></th>\n",
       "      <th>Country</th>\n",
       "      <th>Year</th>\n",
       "      <th>Psychiatrists</th>\n",
       "      <th>Psychologists</th>\n",
       "    </tr>\n",
       "  </thead>\n",
       "  <tbody>\n",
       "    <tr>\n",
       "      <th>0</th>\n",
       "      <td>Afghanistan</td>\n",
       "      <td>2016</td>\n",
       "      <td>0.231</td>\n",
       "      <td>0.296</td>\n",
       "    </tr>\n",
       "    <tr>\n",
       "      <th>1</th>\n",
       "      <td>Albania</td>\n",
       "      <td>2016</td>\n",
       "      <td>1.471</td>\n",
       "      <td>1.231</td>\n",
       "    </tr>\n",
       "    <tr>\n",
       "      <th>2</th>\n",
       "      <td>Angola</td>\n",
       "      <td>2016</td>\n",
       "      <td>0.057</td>\n",
       "      <td>0.179</td>\n",
       "    </tr>\n",
       "    <tr>\n",
       "      <th>3</th>\n",
       "      <td>Antigua and Barbuda</td>\n",
       "      <td>2016</td>\n",
       "      <td>1.001</td>\n",
       "      <td>NaN</td>\n",
       "    </tr>\n",
       "    <tr>\n",
       "      <th>4</th>\n",
       "      <td>Argentina</td>\n",
       "      <td>2016</td>\n",
       "      <td>21.705</td>\n",
       "      <td>222.572</td>\n",
       "    </tr>\n",
       "  </tbody>\n",
       "</table>\n",
       "</div>"
      ],
      "text/plain": [
       "               Country  Year  Psychiatrists  Psychologists\n",
       "0          Afghanistan  2016          0.231          0.296\n",
       "1              Albania  2016          1.471          1.231\n",
       "2               Angola  2016          0.057          0.179\n",
       "3  Antigua and Barbuda  2016          1.001            NaN\n",
       "4            Argentina  2016         21.705        222.572"
      ]
     },
     "execution_count": 193,
     "metadata": {},
     "output_type": "execute_result"
    }
   ],
   "source": [
    "HR_selected_data.head()"
   ]
  },
  {
   "cell_type": "code",
   "execution_count": 194,
   "metadata": {},
   "outputs": [],
   "source": [
    "# Filtering data with respect to the constraint.\n",
    "HR_2016_data = HR_selected_data[HR_selected_data['Year'] == 2016].copy()"
   ]
  },
  {
   "cell_type": "code",
   "execution_count": 195,
   "metadata": {},
   "outputs": [
    {
     "data": {
      "text/plain": [
       "2016    107\n",
       "Name: Year, dtype: int64"
      ]
     },
     "execution_count": 195,
     "metadata": {},
     "output_type": "execute_result"
    }
   ],
   "source": [
    "# Checking number of observations with regards to constraint.\n",
    "HR_2016_data['Year'].value_counts()"
   ]
  },
  {
   "cell_type": "code",
   "execution_count": 196,
   "metadata": {},
   "outputs": [],
   "source": [
    "HR_2016_psylog = HR_2016_data['Psychologists']\n",
    "HR_2016_psytr = HR_2016_data['Psychiatrists']"
   ]
  },
  {
   "cell_type": "code",
   "execution_count": 197,
   "metadata": {},
   "outputs": [
    {
     "data": {
      "text/plain": [
       "23"
      ]
     },
     "execution_count": 197,
     "metadata": {},
     "output_type": "execute_result"
    }
   ],
   "source": [
    "# Checking number of nan values in Psychologists column.\n",
    "HR_2016_psylog.isna().sum()"
   ]
  },
  {
   "cell_type": "code",
   "execution_count": 198,
   "metadata": {},
   "outputs": [
    {
     "data": {
      "text/plain": [
       "3"
      ]
     },
     "execution_count": 198,
     "metadata": {},
     "output_type": "execute_result"
    }
   ],
   "source": [
    "# Checking number of nan values in Psychiatrists column.\n",
    "HR_2016_psytr.isna().sum()"
   ]
  },
  {
   "cell_type": "code",
   "execution_count": 199,
   "metadata": {},
   "outputs": [],
   "source": [
    "# Dropping these nan values.\n",
    "HR_2016_data = HR_2016_data.dropna()"
   ]
  },
  {
   "cell_type": "code",
   "execution_count": 200,
   "metadata": {},
   "outputs": [
    {
     "data": {
      "text/html": [
       "<div>\n",
       "<style scoped>\n",
       "    .dataframe tbody tr th:only-of-type {\n",
       "        vertical-align: middle;\n",
       "    }\n",
       "\n",
       "    .dataframe tbody tr th {\n",
       "        vertical-align: top;\n",
       "    }\n",
       "\n",
       "    .dataframe thead th {\n",
       "        text-align: right;\n",
       "    }\n",
       "</style>\n",
       "<table border=\"1\" class=\"dataframe\">\n",
       "  <thead>\n",
       "    <tr style=\"text-align: right;\">\n",
       "      <th></th>\n",
       "      <th>Year</th>\n",
       "      <th>Psychiatrists</th>\n",
       "      <th>Psychologists</th>\n",
       "    </tr>\n",
       "  </thead>\n",
       "  <tbody>\n",
       "    <tr>\n",
       "      <th>count</th>\n",
       "      <td>82.0</td>\n",
       "      <td>82.000000</td>\n",
       "      <td>82.000000</td>\n",
       "    </tr>\n",
       "    <tr>\n",
       "      <th>mean</th>\n",
       "      <td>2016.0</td>\n",
       "      <td>4.259622</td>\n",
       "      <td>10.666988</td>\n",
       "    </tr>\n",
       "    <tr>\n",
       "      <th>std</th>\n",
       "      <td>0.0</td>\n",
       "      <td>7.732605</td>\n",
       "      <td>31.795299</td>\n",
       "    </tr>\n",
       "    <tr>\n",
       "      <th>min</th>\n",
       "      <td>2016.0</td>\n",
       "      <td>0.014000</td>\n",
       "      <td>0.000000</td>\n",
       "    </tr>\n",
       "    <tr>\n",
       "      <th>25%</th>\n",
       "      <td>2016.0</td>\n",
       "      <td>0.211250</td>\n",
       "      <td>0.269750</td>\n",
       "    </tr>\n",
       "    <tr>\n",
       "      <th>50%</th>\n",
       "      <td>2016.0</td>\n",
       "      <td>1.161000</td>\n",
       "      <td>1.198000</td>\n",
       "    </tr>\n",
       "    <tr>\n",
       "      <th>75%</th>\n",
       "      <td>2016.0</td>\n",
       "      <td>4.031000</td>\n",
       "      <td>5.392750</td>\n",
       "    </tr>\n",
       "    <tr>\n",
       "      <th>max</th>\n",
       "      <td>2016.0</td>\n",
       "      <td>48.040000</td>\n",
       "      <td>222.572000</td>\n",
       "    </tr>\n",
       "  </tbody>\n",
       "</table>\n",
       "</div>"
      ],
      "text/plain": [
       "         Year  Psychiatrists  Psychologists\n",
       "count    82.0      82.000000      82.000000\n",
       "mean   2016.0       4.259622      10.666988\n",
       "std       0.0       7.732605      31.795299\n",
       "min    2016.0       0.014000       0.000000\n",
       "25%    2016.0       0.211250       0.269750\n",
       "50%    2016.0       1.161000       1.198000\n",
       "75%    2016.0       4.031000       5.392750\n",
       "max    2016.0      48.040000     222.572000"
      ]
     },
     "execution_count": 200,
     "metadata": {},
     "output_type": "execute_result"
    }
   ],
   "source": [
    "# Taking a look at distribution parameters.\n",
    "HR_2016_data.describe()"
   ]
  },
  {
   "cell_type": "code",
   "execution_count": 201,
   "metadata": {},
   "outputs": [],
   "source": [
    "# Creating new column for HR_rate which is a mean of values in Psychiatrists and Psychologists columns.\n",
    "HR_2016_data['HR_rate'] = (HR_2016_psylog + HR_2016_psytr) / 2"
   ]
  },
  {
   "cell_type": "code",
   "execution_count": 202,
   "metadata": {},
   "outputs": [
    {
     "data": {
      "text/html": [
       "<div>\n",
       "<style scoped>\n",
       "    .dataframe tbody tr th:only-of-type {\n",
       "        vertical-align: middle;\n",
       "    }\n",
       "\n",
       "    .dataframe tbody tr th {\n",
       "        vertical-align: top;\n",
       "    }\n",
       "\n",
       "    .dataframe thead th {\n",
       "        text-align: right;\n",
       "    }\n",
       "</style>\n",
       "<table border=\"1\" class=\"dataframe\">\n",
       "  <thead>\n",
       "    <tr style=\"text-align: right;\">\n",
       "      <th></th>\n",
       "      <th>Year</th>\n",
       "      <th>Psychiatrists</th>\n",
       "      <th>Psychologists</th>\n",
       "      <th>HR_rate</th>\n",
       "    </tr>\n",
       "  </thead>\n",
       "  <tbody>\n",
       "    <tr>\n",
       "      <th>count</th>\n",
       "      <td>82.0</td>\n",
       "      <td>82.000000</td>\n",
       "      <td>82.000000</td>\n",
       "      <td>82.000000</td>\n",
       "    </tr>\n",
       "    <tr>\n",
       "      <th>mean</th>\n",
       "      <td>2016.0</td>\n",
       "      <td>4.259622</td>\n",
       "      <td>10.666988</td>\n",
       "      <td>7.463305</td>\n",
       "    </tr>\n",
       "    <tr>\n",
       "      <th>std</th>\n",
       "      <td>0.0</td>\n",
       "      <td>7.732605</td>\n",
       "      <td>31.795299</td>\n",
       "      <td>18.113543</td>\n",
       "    </tr>\n",
       "    <tr>\n",
       "      <th>min</th>\n",
       "      <td>2016.0</td>\n",
       "      <td>0.014000</td>\n",
       "      <td>0.000000</td>\n",
       "      <td>0.016500</td>\n",
       "    </tr>\n",
       "    <tr>\n",
       "      <th>25%</th>\n",
       "      <td>2016.0</td>\n",
       "      <td>0.211250</td>\n",
       "      <td>0.269750</td>\n",
       "      <td>0.273875</td>\n",
       "    </tr>\n",
       "    <tr>\n",
       "      <th>50%</th>\n",
       "      <td>2016.0</td>\n",
       "      <td>1.161000</td>\n",
       "      <td>1.198000</td>\n",
       "      <td>1.351000</td>\n",
       "    </tr>\n",
       "    <tr>\n",
       "      <th>75%</th>\n",
       "      <td>2016.0</td>\n",
       "      <td>4.031000</td>\n",
       "      <td>5.392750</td>\n",
       "      <td>5.495500</td>\n",
       "    </tr>\n",
       "    <tr>\n",
       "      <th>max</th>\n",
       "      <td>2016.0</td>\n",
       "      <td>48.040000</td>\n",
       "      <td>222.572000</td>\n",
       "      <td>122.138500</td>\n",
       "    </tr>\n",
       "  </tbody>\n",
       "</table>\n",
       "</div>"
      ],
      "text/plain": [
       "         Year  Psychiatrists  Psychologists     HR_rate\n",
       "count    82.0      82.000000      82.000000   82.000000\n",
       "mean   2016.0       4.259622      10.666988    7.463305\n",
       "std       0.0       7.732605      31.795299   18.113543\n",
       "min    2016.0       0.014000       0.000000    0.016500\n",
       "25%    2016.0       0.211250       0.269750    0.273875\n",
       "50%    2016.0       1.161000       1.198000    1.351000\n",
       "75%    2016.0       4.031000       5.392750    5.495500\n",
       "max    2016.0      48.040000     222.572000  122.138500"
      ]
     },
     "execution_count": 202,
     "metadata": {},
     "output_type": "execute_result"
    }
   ],
   "source": [
    "HR_2016_data.describe()"
   ]
  },
  {
   "cell_type": "code",
   "execution_count": 203,
   "metadata": {},
   "outputs": [
    {
     "data": {
      "text/plain": [
       "4      122.1385\n",
       "32      72.9745\n",
       "102     60.7810\n",
       "68      48.9795\n",
       "89      42.4205\n",
       "Name: HR_rate, dtype: float64"
      ]
     },
     "execution_count": 203,
     "metadata": {},
     "output_type": "execute_result"
    }
   ],
   "source": [
    "# Checking for potential outliers.\n",
    "HR_2016_data['HR_rate'].nlargest(5)"
   ]
  },
  {
   "cell_type": "code",
   "execution_count": 204,
   "metadata": {},
   "outputs": [
    {
     "data": {
      "text/html": [
       "<div>\n",
       "<style scoped>\n",
       "    .dataframe tbody tr th:only-of-type {\n",
       "        vertical-align: middle;\n",
       "    }\n",
       "\n",
       "    .dataframe tbody tr th {\n",
       "        vertical-align: top;\n",
       "    }\n",
       "\n",
       "    .dataframe thead th {\n",
       "        text-align: right;\n",
       "    }\n",
       "</style>\n",
       "<table border=\"1\" class=\"dataframe\">\n",
       "  <thead>\n",
       "    <tr style=\"text-align: right;\">\n",
       "      <th></th>\n",
       "      <th>Country</th>\n",
       "      <th>Year</th>\n",
       "      <th>Psychiatrists</th>\n",
       "      <th>Psychologists</th>\n",
       "      <th>HR_rate</th>\n",
       "    </tr>\n",
       "  </thead>\n",
       "  <tbody>\n",
       "    <tr>\n",
       "      <th>0</th>\n",
       "      <td>Afghanistan</td>\n",
       "      <td>2016</td>\n",
       "      <td>0.231</td>\n",
       "      <td>0.296</td>\n",
       "      <td>0.2635</td>\n",
       "    </tr>\n",
       "    <tr>\n",
       "      <th>1</th>\n",
       "      <td>Albania</td>\n",
       "      <td>2016</td>\n",
       "      <td>1.471</td>\n",
       "      <td>1.231</td>\n",
       "      <td>1.3510</td>\n",
       "    </tr>\n",
       "    <tr>\n",
       "      <th>2</th>\n",
       "      <td>Angola</td>\n",
       "      <td>2016</td>\n",
       "      <td>0.057</td>\n",
       "      <td>0.179</td>\n",
       "      <td>0.1180</td>\n",
       "    </tr>\n",
       "    <tr>\n",
       "      <th>4</th>\n",
       "      <td>Argentina</td>\n",
       "      <td>2016</td>\n",
       "      <td>21.705</td>\n",
       "      <td>222.572</td>\n",
       "      <td>122.1385</td>\n",
       "    </tr>\n",
       "    <tr>\n",
       "      <th>5</th>\n",
       "      <td>Armenia</td>\n",
       "      <td>2016</td>\n",
       "      <td>3.840</td>\n",
       "      <td>0.788</td>\n",
       "      <td>2.3140</td>\n",
       "    </tr>\n",
       "  </tbody>\n",
       "</table>\n",
       "</div>"
      ],
      "text/plain": [
       "       Country  Year  Psychiatrists  Psychologists   HR_rate\n",
       "0  Afghanistan  2016          0.231          0.296    0.2635\n",
       "1      Albania  2016          1.471          1.231    1.3510\n",
       "2       Angola  2016          0.057          0.179    0.1180\n",
       "4    Argentina  2016         21.705        222.572  122.1385\n",
       "5      Armenia  2016          3.840          0.788    2.3140"
      ]
     },
     "execution_count": 204,
     "metadata": {},
     "output_type": "execute_result"
    }
   ],
   "source": [
    "HR_2016_data[:5]"
   ]
  },
  {
   "cell_type": "code",
   "execution_count": 205,
   "metadata": {},
   "outputs": [
    {
     "data": {
      "text/html": [
       "<div>\n",
       "<style scoped>\n",
       "    .dataframe tbody tr th:only-of-type {\n",
       "        vertical-align: middle;\n",
       "    }\n",
       "\n",
       "    .dataframe tbody tr th {\n",
       "        vertical-align: top;\n",
       "    }\n",
       "\n",
       "    .dataframe thead th {\n",
       "        text-align: right;\n",
       "    }\n",
       "</style>\n",
       "<table border=\"1\" class=\"dataframe\">\n",
       "  <thead>\n",
       "    <tr style=\"text-align: right;\">\n",
       "      <th></th>\n",
       "      <th>Year</th>\n",
       "      <th>Psychiatrists</th>\n",
       "      <th>Psychologists</th>\n",
       "      <th>HR_rate</th>\n",
       "    </tr>\n",
       "  </thead>\n",
       "  <tbody>\n",
       "    <tr>\n",
       "      <th>count</th>\n",
       "      <td>82.0</td>\n",
       "      <td>82.000000</td>\n",
       "      <td>82.000000</td>\n",
       "      <td>82.000000</td>\n",
       "    </tr>\n",
       "    <tr>\n",
       "      <th>mean</th>\n",
       "      <td>2016.0</td>\n",
       "      <td>4.259622</td>\n",
       "      <td>10.666988</td>\n",
       "      <td>7.463305</td>\n",
       "    </tr>\n",
       "    <tr>\n",
       "      <th>std</th>\n",
       "      <td>0.0</td>\n",
       "      <td>7.732605</td>\n",
       "      <td>31.795299</td>\n",
       "      <td>18.113543</td>\n",
       "    </tr>\n",
       "    <tr>\n",
       "      <th>min</th>\n",
       "      <td>2016.0</td>\n",
       "      <td>0.014000</td>\n",
       "      <td>0.000000</td>\n",
       "      <td>0.016500</td>\n",
       "    </tr>\n",
       "    <tr>\n",
       "      <th>25%</th>\n",
       "      <td>2016.0</td>\n",
       "      <td>0.211250</td>\n",
       "      <td>0.269750</td>\n",
       "      <td>0.273875</td>\n",
       "    </tr>\n",
       "    <tr>\n",
       "      <th>50%</th>\n",
       "      <td>2016.0</td>\n",
       "      <td>1.161000</td>\n",
       "      <td>1.198000</td>\n",
       "      <td>1.351000</td>\n",
       "    </tr>\n",
       "    <tr>\n",
       "      <th>75%</th>\n",
       "      <td>2016.0</td>\n",
       "      <td>4.031000</td>\n",
       "      <td>5.392750</td>\n",
       "      <td>5.495500</td>\n",
       "    </tr>\n",
       "    <tr>\n",
       "      <th>max</th>\n",
       "      <td>2016.0</td>\n",
       "      <td>48.040000</td>\n",
       "      <td>222.572000</td>\n",
       "      <td>122.138500</td>\n",
       "    </tr>\n",
       "  </tbody>\n",
       "</table>\n",
       "</div>"
      ],
      "text/plain": [
       "         Year  Psychiatrists  Psychologists     HR_rate\n",
       "count    82.0      82.000000      82.000000   82.000000\n",
       "mean   2016.0       4.259622      10.666988    7.463305\n",
       "std       0.0       7.732605      31.795299   18.113543\n",
       "min    2016.0       0.014000       0.000000    0.016500\n",
       "25%    2016.0       0.211250       0.269750    0.273875\n",
       "50%    2016.0       1.161000       1.198000    1.351000\n",
       "75%    2016.0       4.031000       5.392750    5.495500\n",
       "max    2016.0      48.040000     222.572000  122.138500"
      ]
     },
     "execution_count": 205,
     "metadata": {},
     "output_type": "execute_result"
    }
   ],
   "source": [
    "HR_2016_data.describe()"
   ]
  },
  {
   "cell_type": "code",
   "execution_count": 206,
   "metadata": {},
   "outputs": [
    {
     "data": {
      "image/png": "[encoded data removed]",
      "text/plain": [
       "<Figure size 600x300 with 1 Axes>"
      ]
     },
     "metadata": {},
     "output_type": "display_data"
    }
   ],
   "source": [
    "# Creating a distribution plot.\n",
    "with plt.style.context('fivethirtyeight'):\n",
    "    plt.figure(figsize=(6,3), dpi= 100)\n",
    "    ax = sns.distplot(HR_2016_data['HR_rate'], bins=15)\n",
    "    plt.title(label='Distribution of the HR_rate \\n (workers in the mental health sector per '\n",
    "              '100 000 population)', fontweight='bold')\n",
    "    plt.show()"
   ]
  },
  {
   "cell_type": "code",
   "execution_count": 207,
   "metadata": {},
   "outputs": [
    {
     "data": {
      "text/plain": [
       "4.283803413572262"
      ]
     },
     "execution_count": 207,
     "metadata": {},
     "output_type": "execute_result"
    }
   ],
   "source": [
    "# Measuring skewness\n",
    "stats.skew(HR_2016_data['HR_rate'])"
   ]
  },
  {
   "cell_type": "code",
   "execution_count": 208,
   "metadata": {},
   "outputs": [],
   "source": [
    "HR_numpy = HR_2016_data['HR_rate'].to_numpy()"
   ]
  },
  {
   "cell_type": "code",
   "execution_count": 209,
   "metadata": {},
   "outputs": [],
   "source": [
    "# Using interquartile range (IQR) to eliminate outliers and fix distribution in order to proceed with Pearson's r correlation.\n",
    "HR_IQR = stats.iqr(HR_numpy)"
   ]
  },
  {
   "cell_type": "code",
   "execution_count": 210,
   "metadata": {},
   "outputs": [],
   "source": [
    "# Creating variables for Q1 and Q3\n",
    "Q1 = HR_2016_data['HR_rate'].quantile(0.25)\n",
    "Q3 = HR_2016_data['HR_rate'].quantile(0.75)"
   ]
  },
  {
   "cell_type": "code",
   "execution_count": 211,
   "metadata": {},
   "outputs": [],
   "source": [
    "# Creating mask.\n",
    "iqr_mask = (~((HR_2016_data['HR_rate'] < (Q1 - 1.5 * HR_IQR)) | (HR_2016_data['HR_rate'] > (Q3 + 1.5 * HR_IQR))))"
   ]
  },
  {
   "cell_type": "code",
   "execution_count": 212,
   "metadata": {},
   "outputs": [],
   "source": [
    "HR_2016_data['mask'] = iqr_mask"
   ]
  },
  {
   "cell_type": "code",
   "execution_count": 213,
   "metadata": {},
   "outputs": [
    {
     "data": {
      "text/plain": [
       "True     72\n",
       "False    10\n",
       "Name: mask, dtype: int64"
      ]
     },
     "execution_count": 213,
     "metadata": {},
     "output_type": "execute_result"
    }
   ],
   "source": [
    "HR_2016_data['mask'].value_counts()"
   ]
  },
  {
   "cell_type": "code",
   "execution_count": 214,
   "metadata": {},
   "outputs": [],
   "source": [
    "HR_2016_data = HR_2016_data.where(HR_2016_data['mask'] == True)"
   ]
  },
  {
   "cell_type": "code",
   "execution_count": 215,
   "metadata": {},
   "outputs": [],
   "source": [
    "# Dropping data related to outliers.\n",
    "HR_2016_data = HR_2016_data.dropna()"
   ]
  },
  {
   "cell_type": "code",
   "execution_count": 216,
   "metadata": {},
   "outputs": [],
   "source": [
    "# Resetting index and dropping redundant columns.\n",
    "HR_2016_data = HR_2016_data.reset_index().drop(columns=['index', 'mask'])"
   ]
  },
  {
   "cell_type": "code",
   "execution_count": 217,
   "metadata": {},
   "outputs": [
    {
     "data": {
      "text/html": [
       "<div>\n",
       "<style scoped>\n",
       "    .dataframe tbody tr th:only-of-type {\n",
       "        vertical-align: middle;\n",
       "    }\n",
       "\n",
       "    .dataframe tbody tr th {\n",
       "        vertical-align: top;\n",
       "    }\n",
       "\n",
       "    .dataframe thead th {\n",
       "        text-align: right;\n",
       "    }\n",
       "</style>\n",
       "<table border=\"1\" class=\"dataframe\">\n",
       "  <thead>\n",
       "    <tr style=\"text-align: right;\">\n",
       "      <th></th>\n",
       "      <th>Country</th>\n",
       "      <th>Year</th>\n",
       "      <th>Psychiatrists</th>\n",
       "      <th>Psychologists</th>\n",
       "      <th>HR_rate</th>\n",
       "    </tr>\n",
       "  </thead>\n",
       "  <tbody>\n",
       "    <tr>\n",
       "      <th>0</th>\n",
       "      <td>Afghanistan</td>\n",
       "      <td>2016.0</td>\n",
       "      <td>0.231</td>\n",
       "      <td>0.296</td>\n",
       "      <td>0.2635</td>\n",
       "    </tr>\n",
       "    <tr>\n",
       "      <th>1</th>\n",
       "      <td>Albania</td>\n",
       "      <td>2016.0</td>\n",
       "      <td>1.471</td>\n",
       "      <td>1.231</td>\n",
       "      <td>1.3510</td>\n",
       "    </tr>\n",
       "    <tr>\n",
       "      <th>2</th>\n",
       "      <td>Angola</td>\n",
       "      <td>2016.0</td>\n",
       "      <td>0.057</td>\n",
       "      <td>0.179</td>\n",
       "      <td>0.1180</td>\n",
       "    </tr>\n",
       "    <tr>\n",
       "      <th>3</th>\n",
       "      <td>Armenia</td>\n",
       "      <td>2016.0</td>\n",
       "      <td>3.840</td>\n",
       "      <td>0.788</td>\n",
       "      <td>2.3140</td>\n",
       "    </tr>\n",
       "    <tr>\n",
       "      <th>4</th>\n",
       "      <td>Azerbaijan</td>\n",
       "      <td>2016.0</td>\n",
       "      <td>3.452</td>\n",
       "      <td>1.165</td>\n",
       "      <td>2.3085</td>\n",
       "    </tr>\n",
       "  </tbody>\n",
       "</table>\n",
       "</div>"
      ],
      "text/plain": [
       "       Country    Year  Psychiatrists  Psychologists  HR_rate\n",
       "0  Afghanistan  2016.0          0.231          0.296   0.2635\n",
       "1      Albania  2016.0          1.471          1.231   1.3510\n",
       "2       Angola  2016.0          0.057          0.179   0.1180\n",
       "3      Armenia  2016.0          3.840          0.788   2.3140\n",
       "4   Azerbaijan  2016.0          3.452          1.165   2.3085"
      ]
     },
     "execution_count": 217,
     "metadata": {},
     "output_type": "execute_result"
    }
   ],
   "source": [
    "HR_2016_data.head()"
   ]
  },
  {
   "cell_type": "code",
   "execution_count": 218,
   "metadata": {},
   "outputs": [
    {
     "data": {
      "image/png": "[encoded data removed]",
      "text/plain": [
       "<Figure size 600x300 with 1 Axes>"
      ]
     },
     "metadata": {},
     "output_type": "display_data"
    }
   ],
   "source": [
    "# Creating a distribution plot.\n",
    "with plt.style.context('fivethirtyeight'):\n",
    "    plt.figure(figsize=(6,3), dpi= 100)\n",
    "    ax = sns.distplot(HR_2016_data['HR_rate'], bins=15)\n",
    "    plt.title(label='Distribution of the HR_rate \\n (workers in the mental health sector per '\n",
    "              '100 000 population)', fontweight='bold')\n",
    "    plt.show()"
   ]
  },
  {
   "cell_type": "code",
   "execution_count": 219,
   "metadata": {},
   "outputs": [
    {
     "data": {
      "text/plain": [
       "1.5402064611116548"
      ]
     },
     "execution_count": 219,
     "metadata": {},
     "output_type": "execute_result"
    }
   ],
   "source": [
    "# Measuring skewness\n",
    "stats.skew(HR_2016_data['HR_rate'])"
   ]
  },
  {
   "cell_type": "code",
   "execution_count": 220,
   "metadata": {},
   "outputs": [],
   "source": [
    "# Creating variable for age-standarized suicide rates dataframe.\n",
    "agestd_data = pd.read_csv('agestd.csv', header=0, engine='python')"
   ]
  },
  {
   "cell_type": "code",
   "execution_count": 221,
   "metadata": {},
   "outputs": [
    {
     "data": {
      "text/html": [
       "<div>\n",
       "<style scoped>\n",
       "    .dataframe tbody tr th:only-of-type {\n",
       "        vertical-align: middle;\n",
       "    }\n",
       "\n",
       "    .dataframe tbody tr th {\n",
       "        vertical-align: top;\n",
       "    }\n",
       "\n",
       "    .dataframe thead th {\n",
       "        text-align: right;\n",
       "    }\n",
       "</style>\n",
       "<table border=\"1\" class=\"dataframe\">\n",
       "  <thead>\n",
       "    <tr style=\"text-align: right;\">\n",
       "      <th></th>\n",
       "      <th>Unnamed: 0</th>\n",
       "      <th>Unnamed: 1</th>\n",
       "      <th>Age-standardized suicide rates (per 100 000 population)</th>\n",
       "      <th>Age-standardized suicide rates (per 100 000 population).1</th>\n",
       "      <th>Age-standardized suicide rates (per 100 000 population).2</th>\n",
       "      <th>Age-standardized suicide rates (per 100 000 population).3</th>\n",
       "    </tr>\n",
       "  </thead>\n",
       "  <tbody>\n",
       "    <tr>\n",
       "      <th>0</th>\n",
       "      <td>Country</td>\n",
       "      <td>Sex</td>\n",
       "      <td>2016.0</td>\n",
       "      <td>2015.0</td>\n",
       "      <td>2010.0</td>\n",
       "      <td>2000.0</td>\n",
       "    </tr>\n",
       "    <tr>\n",
       "      <th>1</th>\n",
       "      <td>Afghanistan</td>\n",
       "      <td>Both sexes</td>\n",
       "      <td>6.4</td>\n",
       "      <td>6.6</td>\n",
       "      <td>7.4</td>\n",
       "      <td>8.1</td>\n",
       "    </tr>\n",
       "    <tr>\n",
       "      <th>2</th>\n",
       "      <td>Afghanistan</td>\n",
       "      <td>Male</td>\n",
       "      <td>10.6</td>\n",
       "      <td>10.9</td>\n",
       "      <td>12.5</td>\n",
       "      <td>14.3</td>\n",
       "    </tr>\n",
       "    <tr>\n",
       "      <th>3</th>\n",
       "      <td>Afghanistan</td>\n",
       "      <td>Female</td>\n",
       "      <td>2.1</td>\n",
       "      <td>2.1</td>\n",
       "      <td>2.1</td>\n",
       "      <td>1.7</td>\n",
       "    </tr>\n",
       "    <tr>\n",
       "      <th>4</th>\n",
       "      <td>Albania</td>\n",
       "      <td>Both sexes</td>\n",
       "      <td>5.6</td>\n",
       "      <td>5.3</td>\n",
       "      <td>7.7</td>\n",
       "      <td>5.8</td>\n",
       "    </tr>\n",
       "  </tbody>\n",
       "</table>\n",
       "</div>"
      ],
      "text/plain": [
       "    Unnamed: 0  Unnamed: 1  \\\n",
       "0      Country         Sex   \n",
       "1  Afghanistan  Both sexes   \n",
       "2  Afghanistan        Male   \n",
       "3  Afghanistan      Female   \n",
       "4      Albania  Both sexes   \n",
       "\n",
       "   Age-standardized suicide rates (per 100 000 population)  \\\n",
       "0                                             2016.0         \n",
       "1                                                6.4         \n",
       "2                                               10.6         \n",
       "3                                                2.1         \n",
       "4                                                5.6         \n",
       "\n",
       "   Age-standardized suicide rates (per 100 000 population).1  \\\n",
       "0                                             2015.0           \n",
       "1                                                6.6           \n",
       "2                                               10.9           \n",
       "3                                                2.1           \n",
       "4                                                5.3           \n",
       "\n",
       "   Age-standardized suicide rates (per 100 000 population).2  \\\n",
       "0                                             2010.0           \n",
       "1                                                7.4           \n",
       "2                                               12.5           \n",
       "3                                                2.1           \n",
       "4                                                7.7           \n",
       "\n",
       "   Age-standardized suicide rates (per 100 000 population).3  \n",
       "0                                             2000.0          \n",
       "1                                                8.1          \n",
       "2                                               14.3          \n",
       "3                                                1.7          \n",
       "4                                                5.8          "
      ]
     },
     "execution_count": 221,
     "metadata": {},
     "output_type": "execute_result"
    }
   ],
   "source": [
    "agestd_data.head()"
   ]
  },
  {
   "cell_type": "code",
   "execution_count": 222,
   "metadata": {},
   "outputs": [],
   "source": [
    "# Dropping unnecessary columns.\n",
    "agestd_data = agestd_data.drop(agestd_data.columns[[3, 4, 5]], axis=1)"
   ]
  },
  {
   "cell_type": "code",
   "execution_count": 223,
   "metadata": {},
   "outputs": [],
   "source": [
    "# Renaming columns.\n",
    "agestd_data = agestd_data.rename(columns={'Unnamed: 0': 'Country', 'Unnamed: 1': 'Sex', \n",
    "                            'Age-standardized suicide rates (per 100 000 population)': 'Suicide_rate'})"
   ]
  },
  {
   "cell_type": "code",
   "execution_count": 224,
   "metadata": {},
   "outputs": [
    {
     "data": {
      "text/html": [
       "<div>\n",
       "<style scoped>\n",
       "    .dataframe tbody tr th:only-of-type {\n",
       "        vertical-align: middle;\n",
       "    }\n",
       "\n",
       "    .dataframe tbody tr th {\n",
       "        vertical-align: top;\n",
       "    }\n",
       "\n",
       "    .dataframe thead th {\n",
       "        text-align: right;\n",
       "    }\n",
       "</style>\n",
       "<table border=\"1\" class=\"dataframe\">\n",
       "  <thead>\n",
       "    <tr style=\"text-align: right;\">\n",
       "      <th></th>\n",
       "      <th>Country</th>\n",
       "      <th>Sex</th>\n",
       "      <th>Suicide_rate</th>\n",
       "    </tr>\n",
       "  </thead>\n",
       "  <tbody>\n",
       "    <tr>\n",
       "      <th>0</th>\n",
       "      <td>Country</td>\n",
       "      <td>Sex</td>\n",
       "      <td>2016.0</td>\n",
       "    </tr>\n",
       "    <tr>\n",
       "      <th>1</th>\n",
       "      <td>Afghanistan</td>\n",
       "      <td>Both sexes</td>\n",
       "      <td>6.4</td>\n",
       "    </tr>\n",
       "    <tr>\n",
       "      <th>2</th>\n",
       "      <td>Afghanistan</td>\n",
       "      <td>Male</td>\n",
       "      <td>10.6</td>\n",
       "    </tr>\n",
       "    <tr>\n",
       "      <th>3</th>\n",
       "      <td>Afghanistan</td>\n",
       "      <td>Female</td>\n",
       "      <td>2.1</td>\n",
       "    </tr>\n",
       "    <tr>\n",
       "      <th>4</th>\n",
       "      <td>Albania</td>\n",
       "      <td>Both sexes</td>\n",
       "      <td>5.6</td>\n",
       "    </tr>\n",
       "  </tbody>\n",
       "</table>\n",
       "</div>"
      ],
      "text/plain": [
       "       Country         Sex  Suicide_rate\n",
       "0      Country         Sex        2016.0\n",
       "1  Afghanistan  Both sexes           6.4\n",
       "2  Afghanistan        Male          10.6\n",
       "3  Afghanistan      Female           2.1\n",
       "4      Albania  Both sexes           5.6"
      ]
     },
     "execution_count": 224,
     "metadata": {},
     "output_type": "execute_result"
    }
   ],
   "source": [
    "agestd_data.head()"
   ]
  },
  {
   "cell_type": "code",
   "execution_count": 225,
   "metadata": {},
   "outputs": [],
   "source": [
    "agestd_data = agestd_data.drop([0])"
   ]
  },
  {
   "cell_type": "code",
   "execution_count": 226,
   "metadata": {},
   "outputs": [
    {
     "data": {
      "text/html": [
       "<div>\n",
       "<style scoped>\n",
       "    .dataframe tbody tr th:only-of-type {\n",
       "        vertical-align: middle;\n",
       "    }\n",
       "\n",
       "    .dataframe tbody tr th {\n",
       "        vertical-align: top;\n",
       "    }\n",
       "\n",
       "    .dataframe thead th {\n",
       "        text-align: right;\n",
       "    }\n",
       "</style>\n",
       "<table border=\"1\" class=\"dataframe\">\n",
       "  <thead>\n",
       "    <tr style=\"text-align: right;\">\n",
       "      <th></th>\n",
       "      <th>Country</th>\n",
       "      <th>Sex</th>\n",
       "      <th>Suicide_rate</th>\n",
       "    </tr>\n",
       "  </thead>\n",
       "  <tbody>\n",
       "    <tr>\n",
       "      <th>1</th>\n",
       "      <td>Afghanistan</td>\n",
       "      <td>Both sexes</td>\n",
       "      <td>6.4</td>\n",
       "    </tr>\n",
       "    <tr>\n",
       "      <th>2</th>\n",
       "      <td>Afghanistan</td>\n",
       "      <td>Male</td>\n",
       "      <td>10.6</td>\n",
       "    </tr>\n",
       "    <tr>\n",
       "      <th>3</th>\n",
       "      <td>Afghanistan</td>\n",
       "      <td>Female</td>\n",
       "      <td>2.1</td>\n",
       "    </tr>\n",
       "    <tr>\n",
       "      <th>4</th>\n",
       "      <td>Albania</td>\n",
       "      <td>Both sexes</td>\n",
       "      <td>5.6</td>\n",
       "    </tr>\n",
       "    <tr>\n",
       "      <th>5</th>\n",
       "      <td>Albania</td>\n",
       "      <td>Male</td>\n",
       "      <td>7.0</td>\n",
       "    </tr>\n",
       "  </tbody>\n",
       "</table>\n",
       "</div>"
      ],
      "text/plain": [
       "       Country         Sex  Suicide_rate\n",
       "1  Afghanistan  Both sexes           6.4\n",
       "2  Afghanistan        Male          10.6\n",
       "3  Afghanistan      Female           2.1\n",
       "4      Albania  Both sexes           5.6\n",
       "5      Albania        Male           7.0"
      ]
     },
     "execution_count": 226,
     "metadata": {},
     "output_type": "execute_result"
    }
   ],
   "source": [
    "agestd_data.head()"
   ]
  },
  {
   "cell_type": "code",
   "execution_count": 227,
   "metadata": {},
   "outputs": [],
   "source": [
    "# Filtering data with respect to the constraint.\n",
    "agestd_data = agestd_data[agestd_data['Sex'] == 'Both sexes']"
   ]
  },
  {
   "cell_type": "code",
   "execution_count": 228,
   "metadata": {},
   "outputs": [
    {
     "data": {
      "text/html": [
       "<div>\n",
       "<style scoped>\n",
       "    .dataframe tbody tr th:only-of-type {\n",
       "        vertical-align: middle;\n",
       "    }\n",
       "\n",
       "    .dataframe tbody tr th {\n",
       "        vertical-align: top;\n",
       "    }\n",
       "\n",
       "    .dataframe thead th {\n",
       "        text-align: right;\n",
       "    }\n",
       "</style>\n",
       "<table border=\"1\" class=\"dataframe\">\n",
       "  <thead>\n",
       "    <tr style=\"text-align: right;\">\n",
       "      <th></th>\n",
       "      <th>Suicide_rate</th>\n",
       "    </tr>\n",
       "  </thead>\n",
       "  <tbody>\n",
       "    <tr>\n",
       "      <th>count</th>\n",
       "      <td>183.000000</td>\n",
       "    </tr>\n",
       "    <tr>\n",
       "      <th>mean</th>\n",
       "      <td>9.682514</td>\n",
       "    </tr>\n",
       "    <tr>\n",
       "      <th>std</th>\n",
       "      <td>5.529334</td>\n",
       "    </tr>\n",
       "    <tr>\n",
       "      <th>min</th>\n",
       "      <td>0.400000</td>\n",
       "    </tr>\n",
       "    <tr>\n",
       "      <th>25%</th>\n",
       "      <td>5.750000</td>\n",
       "    </tr>\n",
       "    <tr>\n",
       "      <th>50%</th>\n",
       "      <td>9.100000</td>\n",
       "    </tr>\n",
       "    <tr>\n",
       "      <th>75%</th>\n",
       "      <td>12.500000</td>\n",
       "    </tr>\n",
       "    <tr>\n",
       "      <th>max</th>\n",
       "      <td>30.200000</td>\n",
       "    </tr>\n",
       "  </tbody>\n",
       "</table>\n",
       "</div>"
      ],
      "text/plain": [
       "       Suicide_rate\n",
       "count    183.000000\n",
       "mean       9.682514\n",
       "std        5.529334\n",
       "min        0.400000\n",
       "25%        5.750000\n",
       "50%        9.100000\n",
       "75%       12.500000\n",
       "max       30.200000"
      ]
     },
     "execution_count": 228,
     "metadata": {},
     "output_type": "execute_result"
    }
   ],
   "source": [
    "# Taking a look at distribution parameters.\n",
    "agestd_data.describe()"
   ]
  },
  {
   "cell_type": "code",
   "execution_count": 229,
   "metadata": {},
   "outputs": [
    {
     "data": {
      "text/plain": [
       "0"
      ]
     },
     "execution_count": 229,
     "metadata": {},
     "output_type": "execute_result"
    }
   ],
   "source": [
    "# Checking number of nan values in Suicide_rate column.\n",
    "agestd_data['Suicide_rate'].isna().sum()"
   ]
  },
  {
   "cell_type": "code",
   "execution_count": 230,
   "metadata": {},
   "outputs": [],
   "source": [
    "# Merging both dataframes in order to perform further analysis.\n",
    "suicide_data = pd.merge(HR_2016_data, agestd_data, on='Country', how='inner').drop(['Sex'], axis=1)"
   ]
  },
  {
   "cell_type": "code",
   "execution_count": 231,
   "metadata": {},
   "outputs": [
    {
     "data": {
      "text/html": [
       "<div>\n",
       "<style scoped>\n",
       "    .dataframe tbody tr th:only-of-type {\n",
       "        vertical-align: middle;\n",
       "    }\n",
       "\n",
       "    .dataframe tbody tr th {\n",
       "        vertical-align: top;\n",
       "    }\n",
       "\n",
       "    .dataframe thead th {\n",
       "        text-align: right;\n",
       "    }\n",
       "</style>\n",
       "<table border=\"1\" class=\"dataframe\">\n",
       "  <thead>\n",
       "    <tr style=\"text-align: right;\">\n",
       "      <th></th>\n",
       "      <th>Country</th>\n",
       "      <th>Year</th>\n",
       "      <th>Psychiatrists</th>\n",
       "      <th>Psychologists</th>\n",
       "      <th>HR_rate</th>\n",
       "      <th>Suicide_rate</th>\n",
       "    </tr>\n",
       "  </thead>\n",
       "  <tbody>\n",
       "    <tr>\n",
       "      <th>0</th>\n",
       "      <td>Afghanistan</td>\n",
       "      <td>2016.0</td>\n",
       "      <td>0.231</td>\n",
       "      <td>0.296</td>\n",
       "      <td>0.2635</td>\n",
       "      <td>6.4</td>\n",
       "    </tr>\n",
       "    <tr>\n",
       "      <th>1</th>\n",
       "      <td>Albania</td>\n",
       "      <td>2016.0</td>\n",
       "      <td>1.471</td>\n",
       "      <td>1.231</td>\n",
       "      <td>1.3510</td>\n",
       "      <td>5.6</td>\n",
       "    </tr>\n",
       "    <tr>\n",
       "      <th>2</th>\n",
       "      <td>Angola</td>\n",
       "      <td>2016.0</td>\n",
       "      <td>0.057</td>\n",
       "      <td>0.179</td>\n",
       "      <td>0.1180</td>\n",
       "      <td>8.9</td>\n",
       "    </tr>\n",
       "    <tr>\n",
       "      <th>3</th>\n",
       "      <td>Armenia</td>\n",
       "      <td>2016.0</td>\n",
       "      <td>3.840</td>\n",
       "      <td>0.788</td>\n",
       "      <td>2.3140</td>\n",
       "      <td>5.7</td>\n",
       "    </tr>\n",
       "    <tr>\n",
       "      <th>4</th>\n",
       "      <td>Azerbaijan</td>\n",
       "      <td>2016.0</td>\n",
       "      <td>3.452</td>\n",
       "      <td>1.165</td>\n",
       "      <td>2.3085</td>\n",
       "      <td>2.6</td>\n",
       "    </tr>\n",
       "  </tbody>\n",
       "</table>\n",
       "</div>"
      ],
      "text/plain": [
       "       Country    Year  Psychiatrists  Psychologists  HR_rate  Suicide_rate\n",
       "0  Afghanistan  2016.0          0.231          0.296   0.2635           6.4\n",
       "1      Albania  2016.0          1.471          1.231   1.3510           5.6\n",
       "2       Angola  2016.0          0.057          0.179   0.1180           8.9\n",
       "3      Armenia  2016.0          3.840          0.788   2.3140           5.7\n",
       "4   Azerbaijan  2016.0          3.452          1.165   2.3085           2.6"
      ]
     },
     "execution_count": 231,
     "metadata": {},
     "output_type": "execute_result"
    }
   ],
   "source": [
    "suicide_data.head()"
   ]
  },
  {
   "cell_type": "code",
   "execution_count": 232,
   "metadata": {},
   "outputs": [
    {
     "data": {
      "text/html": [
       "<div>\n",
       "<style scoped>\n",
       "    .dataframe tbody tr th:only-of-type {\n",
       "        vertical-align: middle;\n",
       "    }\n",
       "\n",
       "    .dataframe tbody tr th {\n",
       "        vertical-align: top;\n",
       "    }\n",
       "\n",
       "    .dataframe thead th {\n",
       "        text-align: right;\n",
       "    }\n",
       "</style>\n",
       "<table border=\"1\" class=\"dataframe\">\n",
       "  <thead>\n",
       "    <tr style=\"text-align: right;\">\n",
       "      <th></th>\n",
       "      <th>Year</th>\n",
       "      <th>Psychiatrists</th>\n",
       "      <th>Psychologists</th>\n",
       "      <th>HR_rate</th>\n",
       "      <th>Suicide_rate</th>\n",
       "    </tr>\n",
       "  </thead>\n",
       "  <tbody>\n",
       "    <tr>\n",
       "      <th>count</th>\n",
       "      <td>71.0</td>\n",
       "      <td>71.000000</td>\n",
       "      <td>71.000000</td>\n",
       "      <td>71.000000</td>\n",
       "      <td>71.000000</td>\n",
       "    </tr>\n",
       "    <tr>\n",
       "      <th>mean</th>\n",
       "      <td>2016.0</td>\n",
       "      <td>2.337577</td>\n",
       "      <td>2.031507</td>\n",
       "      <td>2.184542</td>\n",
       "      <td>9.230986</td>\n",
       "    </tr>\n",
       "    <tr>\n",
       "      <th>std</th>\n",
       "      <td>0.0</td>\n",
       "      <td>3.622944</td>\n",
       "      <td>2.805171</td>\n",
       "      <td>2.766721</td>\n",
       "      <td>5.468314</td>\n",
       "    </tr>\n",
       "    <tr>\n",
       "      <th>min</th>\n",
       "      <td>2016.0</td>\n",
       "      <td>0.014000</td>\n",
       "      <td>0.000000</td>\n",
       "      <td>0.016500</td>\n",
       "      <td>2.400000</td>\n",
       "    </tr>\n",
       "    <tr>\n",
       "      <th>25%</th>\n",
       "      <td>2016.0</td>\n",
       "      <td>0.165000</td>\n",
       "      <td>0.177000</td>\n",
       "      <td>0.226250</td>\n",
       "      <td>5.550000</td>\n",
       "    </tr>\n",
       "    <tr>\n",
       "      <th>50%</th>\n",
       "      <td>2016.0</td>\n",
       "      <td>0.839000</td>\n",
       "      <td>0.788000</td>\n",
       "      <td>1.048500</td>\n",
       "      <td>8.000000</td>\n",
       "    </tr>\n",
       "    <tr>\n",
       "      <th>75%</th>\n",
       "      <td>2016.0</td>\n",
       "      <td>2.766500</td>\n",
       "      <td>2.406000</td>\n",
       "      <td>2.890000</td>\n",
       "      <td>11.650000</td>\n",
       "    </tr>\n",
       "    <tr>\n",
       "      <th>max</th>\n",
       "      <td>2016.0</td>\n",
       "      <td>16.188000</td>\n",
       "      <td>12.368000</td>\n",
       "      <td>11.324000</td>\n",
       "      <td>30.200000</td>\n",
       "    </tr>\n",
       "  </tbody>\n",
       "</table>\n",
       "</div>"
      ],
      "text/plain": [
       "         Year  Psychiatrists  Psychologists    HR_rate  Suicide_rate\n",
       "count    71.0      71.000000      71.000000  71.000000     71.000000\n",
       "mean   2016.0       2.337577       2.031507   2.184542      9.230986\n",
       "std       0.0       3.622944       2.805171   2.766721      5.468314\n",
       "min    2016.0       0.014000       0.000000   0.016500      2.400000\n",
       "25%    2016.0       0.165000       0.177000   0.226250      5.550000\n",
       "50%    2016.0       0.839000       0.788000   1.048500      8.000000\n",
       "75%    2016.0       2.766500       2.406000   2.890000     11.650000\n",
       "max    2016.0      16.188000      12.368000  11.324000     30.200000"
      ]
     },
     "execution_count": 232,
     "metadata": {},
     "output_type": "execute_result"
    }
   ],
   "source": [
    "suicide_data.describe()"
   ]
  },
  {
   "cell_type": "code",
   "execution_count": 233,
   "metadata": {},
   "outputs": [
    {
     "data": {
      "image/png": "[encoded data removed]",
      "text/plain": [
       "<Figure size 800x400 with 1 Axes>"
      ]
     },
     "metadata": {},
     "output_type": "display_data"
    }
   ],
   "source": [
    "# Creating a distribution plot.\n",
    "with plt.style.context('fivethirtyeight'):\n",
    "    plt.figure(figsize=(8,4), dpi= 100)\n",
    "    ax = sns.distplot(suicide_data['Suicide_rate'], bins=15)\n",
    "    plt.title(label='Distribution of the Suicide_rate \\n (per 100 000 population)', fontweight='bold')\n",
    "    plt.show()"
   ]
  },
  {
   "cell_type": "code",
   "execution_count": 234,
   "metadata": {},
   "outputs": [
    {
     "data": {
      "text/plain": [
       "1.3699754653007674"
      ]
     },
     "execution_count": 234,
     "metadata": {},
     "output_type": "execute_result"
    }
   ],
   "source": [
    "# Measuring skewness\n",
    "stats.skew(suicide_data['Suicide_rate'])"
   ]
  },
  {
   "cell_type": "code",
   "execution_count": 235,
   "metadata": {},
   "outputs": [
    {
     "data": {
      "image/png": "[encoded data removed]",
      "text/plain": [
       "<Figure size 1600x1000 with 1 Axes>"
      ]
     },
     "metadata": {},
     "output_type": "display_data"
    }
   ],
   "source": [
    "# Creating a scatterplot.\n",
    "import matplotlib.ticker as ticker\n",
    "with plt.style.context('dark_background'):\n",
    "    fig, ax = plt.subplots(figsize=(16, 10), dpi=100)\n",
    "    sns.scatterplot(suicide_data['HR_rate'], suicide_data['Suicide_rate'], s=300, ax=ax)\n",
    "    ax.xaxis.set_ticks(np.arange(0, 80, 10))\n",
    "    ax.xaxis.set_major_formatter(ticker.FormatStrFormatter('%0.1f'))\n",
    "    ax.set_xlabel('HR_rate', fontsize='22')\n",
    "    ax.set_ylabel('Suicide_rate', fontsize='22')"
   ]
  },
  {
   "cell_type": "code",
   "execution_count": 236,
   "metadata": {},
   "outputs": [],
   "source": [
    "# Calculating Pearson's r and related p-value.\n",
    "r_pearson, p_value  = stats.pearsonr(suicide_data['HR_rate'], suicide_data['Suicide_rate'])"
   ]
  },
  {
   "cell_type": "code",
   "execution_count": 237,
   "metadata": {},
   "outputs": [
    {
     "data": {
      "text/plain": [
       "0.08808655853799455"
      ]
     },
     "execution_count": 237,
     "metadata": {},
     "output_type": "execute_result"
    }
   ],
   "source": [
    "r_pearson"
   ]
  },
  {
   "cell_type": "code",
   "execution_count": 238,
   "metadata": {},
   "outputs": [
    {
     "data": {
      "text/plain": [
       "0.46509827577856044"
      ]
     },
     "execution_count": 238,
     "metadata": {},
     "output_type": "execute_result"
    }
   ],
   "source": [
    "p_value"
   ]
  },
  {
   "cell_type": "code",
   "execution_count": 239,
   "metadata": {},
   "outputs": [],
   "source": [
    "# Assigning sample size to a variable.\n",
    "N = suicide_data['Suicide_rate'].count()"
   ]
  },
  {
   "cell_type": "code",
   "execution_count": 240,
   "metadata": {},
   "outputs": [
    {
     "data": {
      "text/plain": [
       "71"
      ]
     },
     "execution_count": 240,
     "metadata": {},
     "output_type": "execute_result"
    }
   ],
   "source": [
    "N"
   ]
  },
  {
   "cell_type": "code",
   "execution_count": 241,
   "metadata": {},
   "outputs": [],
   "source": [
    "def r_to_z(r):\n",
    "    '''Converting r value to z value - Fisher's transformation'''\n",
    "    return math.log((1 + r) / (1 - r)) / 2.0\n",
    "\n",
    "def z_to_r(z):\n",
    "    '''Converting back z value to r value'''\n",
    "    e = math.exp(2 * z)\n",
    "    return((e - 1) / (e + 1))\n",
    "\n",
    "def r_confidence_interval(r, alpha, n):\n",
    "    '''Calculating Pearson's r confidence interval for the two-tailed test'''\n",
    "    z = r_to_z(r)\n",
    "    se = 1.0 / math.sqrt(n - 3)\n",
    "    z_crit = stats.norm.ppf(1 - alpha/2)  # 2-tailed z critical value\n",
    "\n",
    "    low_interval = z - z_crit * se\n",
    "    high_interval = z + z_crit * se\n",
    "\n",
    "    return (z_to_r(low_interval), z_to_r(high_interval))"
   ]
  },
  {
   "cell_type": "code",
   "execution_count": 242,
   "metadata": {},
   "outputs": [],
   "source": [
    "# Assigning 95% confidence interval to a variable.\n",
    "CI_95 = r_confidence_interval(r_pearson, 0.05, N)"
   ]
  },
  {
   "cell_type": "code",
   "execution_count": 243,
   "metadata": {},
   "outputs": [
    {
     "data": {
      "text/plain": [
       "(-0.14826414047275943, 0.314918428231186)"
      ]
     },
     "execution_count": 243,
     "metadata": {},
     "output_type": "execute_result"
    }
   ],
   "source": [
    "CI_95"
   ]
  },
  {
   "cell_type": "markdown",
   "metadata": {},
   "source": [
    "## Results\n",
    "\n",
    "**Pearson's r** = *0.08808655853799455*   \n",
    "**p-value** = *0.46509827577856044*   \n",
    "**95% confidence interval** = *(-0.14826414047275943, 0.314918428231186)*   \n",
    "\n",
    "## Conclusions\n",
    "\n",
    "Based on the Pearson's r with respect to p-value and taking into account the sampling error we retain the null hypothesis. \n",
    "\n",
    "There is no statistically significant correlation between suicide rate across the world and a number of psychiatrists and psychologists working in the mental health sector.\n",
    "\n",
    "As an alternative solution, I would recommend applying similar analysis on the data including counseling rate with additional constraints like a number of sessions/overall length of a therapy per patient. I can only speculate that this would have a higher chance of showing a significant correlation than simply the number of workers in the mental health sector, although acquiring this type of data may not be accessible."
   ]
  },
  {
   "cell_type": "code",
   "execution_count": null,
   "metadata": {},
   "outputs": [],
   "source": []
  }
 ],
 "metadata": {
  "kernelspec": {
   "display_name": "Python 3",
   "language": "python",
   "name": "python3"
  },
  "language_info": {
   "codemirror_mode": {
    "name": "ipython",
    "version": 3
   },
   "file_extension": ".py",
   "mimetype": "text/x-python",
   "name": "python",
   "nbconvert_exporter": "python",
   "pygments_lexer": "ipython3",
   "version": "3.7.3"
  }
 },
 "nbformat": 4,
 "nbformat_minor": 2
}
